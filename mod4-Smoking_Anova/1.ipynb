{
 "cells": [
  {
   "cell_type": "code",
   "execution_count": 1,
   "metadata": {},
   "outputs": [],
   "source": [
    "import os, sys, shutil, argparse, inspect\n",
    "from datetime import datetime\n",
    "from copy import deepcopy\n",
    "\n",
    "import numpy as np, pandas as pd\n",
    "from scipy.stats import f as fisher_f\n",
    "from scipy.stats import norm\n",
    "\n",
    "from mpl_toolkits.mplot3d import Axes3D\n",
    "import matplotlib as mpl\n",
    "import matplotlib.pyplot as plt\n",
    "import matplotlib.animation as animation\n",
    "from matplotlib import rc\n",
    "rc('text', usetex=False)\n",
    "from matplotlib.ticker import StrMethodFormatter\n",
    "%matplotlib inline\n",
    "\n",
    "import warnings\n",
    "warnings.filterwarnings('ignore')"
   ]
  },
  {
   "cell_type": "code",
   "execution_count": 2,
   "metadata": {},
   "outputs": [],
   "source": [
    "PPL, CAT = 12,4\n",
    "data = pd.read_csv(os.path.join('.','..','data','Raw Data_GeneSpring.txt'),sep='\\t')"
   ]
  },
  {
   "cell_type": "code",
   "execution_count": 3,
   "metadata": {},
   "outputs": [],
   "source": [
    "D1, D2 = np.zeros((PPL*CAT,CAT)), np.zeros((PPL*CAT,CAT))"
   ]
  },
  {
   "cell_type": "code",
   "execution_count": 4,
   "metadata": {},
   "outputs": [],
   "source": [
    "D1[0*PPL:1*PPL], D2[0*PPL:1*PPL] = np.array([1.0,0.0,0.0,0.0],dtype='float64'), np.array([1.0,0.0,1.0,0.0],dtype='float64')\n",
    "D1[1*PPL:2*PPL], D2[1*PPL:2*PPL] = np.array([0.0,1.0,0.0,0.0],dtype='float64'), np.array([1.0,0.0,0.0,1.0],dtype='float64')\n",
    "D1[2*PPL:3*PPL], D2[2*PPL:3*PPL] = np.array([0.0,0.0,1.0,0.0],dtype='float64'), np.array([0.0,1.0,1.0,0.0],dtype='float64')\n",
    "D1[3*PPL:4*PPL], D2[3*PPL:4*PPL] = np.array([0.0,0.0,0.0,1.0],dtype='float64'), np.array([0.0,1.0,0.0,1.0],dtype='float64')"
   ]
  },
  {
   "cell_type": "code",
   "execution_count": 5,
   "metadata": {},
   "outputs": [],
   "source": [
    "M1 = np.linalg.multi_dot([D1,np.linalg.pinv(np.dot(D1.T,D1)),D1.T])\n",
    "M2 = np.linalg.multi_dot([D2,np.linalg.pinv(np.dot(D2.T,D2)),D2.T])\n",
    "RANK1, RANK2 = tuple(map(np.linalg.matrix_rank,(M1,M2)))\n",
    "NUM, DENOM = (M1-M2), (np.diag(np.ones(M1.shape[0]))-M1)\n",
    "diff1, diff2  = RANK1 - RANK2, PPL*CAT - RANK1"
   ]
  },
  {
   "cell_type": "code",
   "execution_count": 6,
   "metadata": {},
   "outputs": [],
   "source": [
    "# Task - 1 : Generating p-values\n",
    "def my_map(prm):\n",
    "    LIST   = prm[1:1+PPL*CAT]\n",
    "    NUM2, DENOM2   = np.linalg.multi_dot([LIST.T,NUM,  LIST]), np.linalg.multi_dot([LIST.T,DENOM,LIST])\n",
    "    val = (NUM2*(PPL*CAT - RANK1))/(DENOM2*(RANK1-RANK2))\n",
    "    if val:\n",
    "        return val\n",
    "    else:\n",
    "        return 0\n",
    "\n",
    "data['f_val'] = data.apply( my_map , axis=1 )\n",
    "data['p_val'] = 1 - fisher_f(diff1,diff2,0).cdf( data['f_val'] )\n",
    "\n",
    "p_vals = np.array(sorted(data['p_val']))\n",
    "p_vals = p_vals[~np.isnan(p_vals)]"
   ]
  },
  {
   "cell_type": "code",
   "execution_count": 7,
   "metadata": {},
   "outputs": [
    {
     "data": {
      "image/png": "[encoded data removed]",
      "text/plain": [
       "<Figure size 432x288 with 1 Axes>"
      ]
     },
     "metadata": {
      "needs_background": "light"
     },
     "output_type": "display_data"
    }
   ],
   "source": [
    "# Task-2 : Generating Histogram of p-values\n",
    "data['p_val'].hist()\n",
    "plt.show()"
   ]
  },
  {
   "cell_type": "code",
   "execution_count": 9,
   "metadata": {},
   "outputs": [],
   "source": [
    "# Task-4 : Using FDR cut-off of 0.05 for shortlisting rows, and \n",
    "FDR_cutoff = 0.05\n",
    "shrt_ls_rows = data['p_val']<FDR_cutoff"
   ]
  },
  {
   "cell_type": "code",
   "execution_count": 10,
   "metadata": {
    "scrolled": true
   },
   "outputs": [
    {
     "name": "stdout",
     "output_type": "stream",
     "text": [
      "['SRF', 'IFNG', 'LRP10', 'ADRB2', 'Nan', 'PAQR4', 'LOC102724185', 'Nan', 'Nan', 'RFPL1S', 'FAM65A', 'TRPM1', 'TOR2A', 'TF', 'VWF', 'NKG7', 'NUAK1', 'FHOD1', 'Nan', 'Nan', 'GPR108', 'RGS7', 'TMEM8A', 'Nan', 'LTC4S', 'ZMAT4', 'Nan', 'TTTY14', 'EFCAB12', 'EMX1', 'MFSD9', 'SPATC1L', 'LOC101926937', 'TMEM92', 'lnc-NDE1-1', 'CYP4B1', 'KLRC2', 'lnc-LIX1-1', 'RPH3A', 'LINC00626', 'ASRGL1', 'Nan', 'Nan', 'RASGRP4', 'CEP170B', 'Nan', 'DEFB125', 'CLDN1', 'Nan', 'F2RL2', 'NYX', 'STXBP6', 'Nan', 'MKNK2', 'lnc-RP11-88J22.1.1-3', 'RHD', 'DAO', 'Nan', 'CSF2RB', 'FBXO17', 'Nan', 'XLOC_l2_013648', 'USHBP1', 'Nan', 'Nan', 'ACTG1P4', 'Nan', 'Nan', 'Nan', 'LOC100130691', 'Nan', 'Nan', 'TMEFF1', 'TRIM45', 'Nan', 'SNX32', 'CMKLR1', 'KCNIP2', 'S100G', 'ISPD', 'GSTA1', 'GPNMB', 'Nan', 'Nan', 'PTPRS', 'STON2', 'Nan', 'CBR3-AS1', 'CACFD1', 'Nan', 'Nan', 'SLC22A23', 'Nan', 'lnc-KIAA1737-2', 'GRIK2', 'Nan', 'TEAD3', 'TIAM1', 'ZNF213', 'Nan', 'LRRC36', 'CALB2', 'ISYNA1', 'RAVER2', 'MYO1H', 'Nan', 'TUBA3FP', 'Nan', 'JARID2-AS1', 'SULT1A4', 'Nan', 'Nan', 'KCNQ1DN', 'Nan', 'Nan', 'TMEM150C', 'OR7D2', 'OSCP1', 'KCNG1', 'Nan', 'PRKD2', 'lnc-PARN-4', 'Nan', 'SPINK7', 'Nan', 'Nan', 'SPTY2D1-AS1', 'WNT7A', 'ACTN1', 'TMEM80', 'CCL5', 'THEMIS2', 'MAP3K3', 'SDCBP2', 'Nan', 'AMICA1', 'LRIG3', 'Nan', 'Nan', 'ROPN1L-AS1', 'MMP28', 'ATXN3L', 'MARK2', 'Nan', 'NCKAP5L', 'PTPN6', 'Nan', 'MIA2', 'HIST1H3D', 'Nan', 'AGER', 'PGS1', 'AKAP5', 'ZNF415', 'BIN3', 'ZNF471', 'RSBN1L', 'Nan', 'Nan', 'MEGF6', 'DTWD2', 'PODN', 'ORF1', 'FAM3D', 'IRS2', 'SPDYE3', 'EOMES', 'Nan', 'MBOAT7', 'MTFP1', 'TREML2', 'Nan', 'WASF3', 'Nan', 'ZBTB47', 'ADD1', 'LOC146880', 'Nan', 'ACTN1', 'Nan', 'ZFP30', 'Nan', 'HIST1H4E', 'Nan', 'MEGF6', 'CCK', 'ZBTB47', 'IL36RN', 'IDS', 'HBB', 'Nan', 'HGSNAT', 'HECW2', 'TMUB2', 'ZNF292', 'LRP10', 'NREP', 'PNKP', 'Nan', 'Nan', 'Nan', 'Nan', 'TLN1', 'TBX20', 'AGRN', 'AMPD2', 'RNASET2', 'NAIF1', 'HIST1H1C', 'LINC00944', 'CORO1A', 'MIF', 'Nan', 'KLHDC9', 'HLA-C', 'WDR93', 'KCNK15', 'Nan', 'ZDHHC21', 'Nan', 'SNED1', 'LOC101928731', 'ACTN3', 'Nan', 'Nan', 'EFNA5', 'REEP4', 'MCF2L-AS1', 'TNRC18', 'MCEMP1', 'CTCFL', 'Nan', 'CDH26', 'COL9A2', 'SDK2', 'SEMA6A', 'Nan', 'SERPINA1', 'CMKLR1', 'HSPC081', 'FAM181A', 'MROH7', 'Nan', 'HIST1H1D', 'KIRREL', 'HOXC13', 'ZC3HAV1L', 'NLRP7', 'TMEM239', 'Nan', 'Nan', 'POTEE', 'Nan', 'KCNK7', 'NRAP', 'Nan', 'GFAP', 'SULT1A1', 'Nan', 'Nan', 'LSR', 'SERPINA7', 'RAB6B', 'RASA4', 'CCER1', 'TF', 'CYP4F8', 'HNRNPM', 'SLC17A7', 'MYOM1', 'S1PR5', 'HHLA3', 'TLL1', 'Nan', 'Nan', 'Nan', 'LOC389641', 'CDH13', 'Nan', 'ETNK2', 'SLC4A10', 'Nan', 'TMUB2', 'PCDHB15', 'PADI2', 'KIAA1211L', 'SHISA9', 'CD177', 'Nan', 'Nan', 'TRIM10', 'FADS2', 'DMRT2', 'MUC4', 'PMEL', 'ALPP', 'BOD1L1', 'OTUD7B', 'GM2A', 'STXBP2', 'BARX1', 'Nan', 'CACNG3', 'lnc-C8orf83-2', 'LOXHD1', 'INSM1', 'Nan', 'Nan', 'PRSS23', 'EFCAB6', 'CYP11B1', 'RASA4', 'PITPNA', 'RNF157', 'Nan', 'PLCZ1', 'MVB12B', 'SYCE3', 'Nan', 'Nan', 'ADAM33', 'Nan', 'LAMC3', 'Nan', 'SFRP5', 'Nan', 'MC2R', 'PARD3B', 'WNT2B', 'GUCA1C', 'lnc-IL1R2-2', 'Nan', 'MYBPC3', 'LINC01573', 'Nan', 'ITGA5', 'CCDC3', 'DIO1', 'HHLA2', 'ACTA2-AS1', 'HFE', 'Nan', 'AOC2', 'GPR25', 'C14orf79', 'Nan', 'Nan', 'CHRDL1', 'TOB2P1', 'MAP3K19', 'CARTPT', 'CYP2S1', 'LMAN1L', 'KISS1', 'Nan', 'Nan', 'HTR4', 'Nan', 'CCDC155', 'XLOC_l2_013837', 'BRINP2', 'Nan', 'HIF3A', 'PRSS21', 'FES', 'LILRB4', 'Nan', 'PRRT1', 'DNASE2B', 'C1QTNF5', 'TCL6', 'RPS6KA2', 'AK4', 'GM2A', 'AQP10', 'GPI', 'KCNK10', 'PRORY', 'PDLIM3', 'Nan', 'YAP1', 'GPR68', 'XCR1', 'KLRG1', 'PRF1', 'Nan', 'Nan', 'MATN3', 'lnc-FAH-1', 'Nan', 'Nan', 'TCAF2', 'TRDN', 'PIGR', 'PRSS58', 'PRSS23', 'Nan', 'AADAC', 'GLT8D2', 'lnc-HEPH-1', 'TMEM178B', 'TTTY21', 'Nan', 'CYP4F12', 'Nan', 'KIAA1549', 'Nan', 'OPRL1', 'FOLR3', 'MYBL1', 'LOC101927181', 'KIRREL3', 'MIDN', 'RBM47', 'KLK10', 'OVCH1-AS1', 'Nan', 'KLK15', 'HOXA10', 'TMEM249', 'SERTAD4', 'SLC4A4', 'C15orf27', 'GALNT8', 'VWA1', 'TMPRSS6', 'GRIK2', 'LINC00520', 'LOC100506557', 'AGR3', 'Nan', 'SLC34A2', 'Nan', 'LOC100233156', 'GYPA', 'KNDC1', 'THPO', 'AK4', 'Nan', 'Nan', 'LRP2', 'EPB41L4A-AS2', 'FUT2', 'Nan', 'Nan', 'EYS', 'Sep-08', 'AFAP1L2', 'lnc-MEP1A-1', 'FSCN1', 'CYP39A1', 'C1QTNF1', 'ID4', 'CCDC171', 'Nan', 'SIGLECL1', 'Nan', 'Nan', 'Nan', 'ZBTB46-AS1', 'SCAI', 'PPP1R3G', 'lnc-KIAA0125-2', 'Nan', 'CDHR1', 'Nan', 'ADAMTS3', 'PDE9A', 'MOBP', 'CRTC3', 'Nan', 'Nan', 'AWAT1', 'B3GAT1', 'NUDT11', 'FBXO36', 'PILRA', 'PTPRO', 'TTC23', 'RBMY1B', 'C12orf54', 'GPNMB', 'Nan', 'PACSIN1', 'TMEM45A', 'GATA4', 'Nan', 'NALCN', 'PZP', 'ZIM3', 'PLCB4', 'COL5A2', 'DNM3OS', 'HNF4A', 'KCTD19', 'SSTR1', 'LOC101928471', 'Nan', 'Nan', 'TBC1D22A-AS1', 'CCDC171', 'Nan', 'PDE11A', 'Nan', 'HCRT', 'ZKSCAN8', 'DPYS', 'Nan', 'TMEM176A', 'Nan', 'LOC101929229', 'FBRS', 'Nan', 'RAB6B', 'Nan', 'Nan', 'Nan', 'Nan', 'MUC4', 'Nan', 'FOXP2', 'OLIG1', 'GPR97', 'C6orf118', 'Nan', 'NAV2', 'ZSWIM8', 'Nan', 'EPHA6', 'IL33', 'Nan', 'KRTAP5-AS1', 'CD177', 'ACAD10', 'ALPK2', 'ZNF233', 'SP3', 'PCIF1', 'Nan', 'MGAT4D', 'TEX35', 'Nan', 'Nan', 'LCAT', 'RARRES2', 'HIST1H1E', 'Nan', 'PIK3R6', 'Nan', 'Nan', 'Nan', 'Nan', 'MYBL1', 'GPSM3', 'ACVR1B', 'Nan', 'ONECUT2', 'Nan', 'Nan', 'KCNS3', 'RCVRN', 'GNAT1', 'SLC7A3', 'CASC1', 'RILP', 'MUC8', 'Nan', 'CEP164', 'SH3GL1', 'SNED1', 'COL27A1', 'DRC7', 'SYTL4', 'Nan', 'MYBL1', 'FAM214B', 'PRSS21', 'Nan', 'MYADM', 'ASXL3', 'Nan', 'Nan', 'HBD', 'KLRC4', 'ASB13', 'RGS4', 'TMC5', 'TMEM202', 'Nan', 'MEG3', 'CCDC62', 'SEMA4B', 'FAM214B', 'GABRG3', 'Nan', 'Nan', 'POLM', 'EGFEM1P', 'GLP2R', 'MEF2D', 'MYO15B', 'TMEM176B', 'CD9', 'FAM81A', 'Nan', 'lnc-PRMT8-2', 'Nan', 'Nan', 'NRSN1', 'Nan', 'G6PD', 'FNDC1', 'Nan', 'Nan', 'JSRP1', 'SLC12A3', 'Nan', 'TNNI3', 'Nan', 'Nan', 'Nan', 'CHI3L1', 'HIPK3', 'RASGRP4', 'WDR62', 'KATNAL2', 'KHDRBS3', 'SYT3', 'PON1', 'PIP', 'Nan', 'Nan', 'APOBEC3F', 'FAM95A', 'CITED4', 'ANGPT1', 'LPAR2', 'ABHD12B', 'C1orf115', 'SHISA5', 'GOLGA8R', 'MYO15B', 'PTGDR', 'RNF220', 'KBTBD12', 'AGTPBP1', 'TRAM1', 'LOC100505478', 'Nan', 'Nan', 'PRDM12', 'MYH10', 'HOTS', 'HOXC10', 'Nan', 'EMILIN3', 'FAM162A', 'SERPINA2', 'HLA-E', 'LGALS9C', 'GNLY', 'AS3MT', 'FAM221B', 'C16orf93', 'LINC00339', 'C18orf12', 'KIAA2013', 'Nan', 'Nan', 'HBA1', 'RFPL3', 'Nan', 'Nan', 'RNASET2', 'Nan', 'ERICH2', 'Nan', 'JAM2', 'PPP2R2B', 'IRS2', 'TBC1D2', 'HSPB9', 'SCNN1G', 'Nan', 'FLG', 'KLHL21', 'HAO1', 'Nan', 'HOXD12', 'DMRT3', 'LINC00670', 'GPR83', 'lnc-ALDH9A1-1', 'LINC00461', 'EXOC3', 'JAKMIP2', 'Nan', 'HS3ST4', 'Nan', 'ARHGEF4', 'Nan', 'CECR1', 'TPI1', 'CDA', 'TDRD12', 'HNF1A', 'Nan', 'PMP22', 'LOC285696', 'RASAL2', 'HOXD3', 'RGL3', 'Nan', 'Nan', 'RUNDC3B', 'Nan', 'Nan', 'NMUR1', 'ABHD2', 'CSRNP3', 'Nan', 'KLRG1', 'RXRG', 'APC2', 'NID2', 'TMCO1', 'NAT8L', 'CYP4F2', 'Nan', 'AKAP6', 'Nan', 'SLC6A11', 'Nan', 'ACSBG1', 'DKFZP434L187', 'SLC4A1', 'EFHD1', 'MESP1', 'WWTR1', 'SPTBN4', 'PADI2', 'MRAP', 'STARD13', 'PLAC4', 'PDLIM7', 'GRPR', 'LINC01117', 'RASSF2', 'PTPRF', 'RHBDF1', 'FHAD1', 'MMP23B', 'MYBL1', 'HBA2', 'SLC1A7', 'Nan', 'PADI2', 'TBX21', 'NUB1', 'MEF2BNB', 'SLC44A4', 'DBN1', 'CEACAM19', 'Nan', 'CCDC57', 'HLA-G', 'RASIP1', 'C1QC', 'Nan', 'REG4', 'MGC57346', 'Nan', 'FAM196A', 'DLX6', 'TSHB', 'TTTY1', 'Nan', 'Nan', 'Nan', 'Nan', 'MTBP', 'TRHDE', 'CSN3', 'Nan', 'MINK1', 'ATP2B2', 'Nan', 'Nan', 'Nan', 'Nan', 'MAATS1', 'Nan', 'Nan', 'Nan', 'Nan', 'SLC23A3', 'MYO3B', 'DUXAP8', 'SMLR1', 'LIPG', 'TIGD1', 'LINC01465', 'Nan', 'DOC2A', 'LRRC8E', 'RESP18', 'RIMBP2', 'C9orf135', 'UNC93B1', 'lnc-HOXB7-1', 'Nan']\n"
     ]
    }
   ],
   "source": [
    "# Task-5 :Creating list of GeneSymbols\n",
    "gene_sym = data[shrt_ls_rows]['GeneSymbol']\n",
    "gene_sym = gene_sym.replace(np.nan,'Nan',regex=True)\n",
    "print(list(gene_sym))"
   ]
  },
  {
   "cell_type": "code",
   "execution_count": 11,
   "metadata": {},
   "outputs": [],
   "source": [
    "# Task-6 : Intersecting with various gene lists\n",
    "files = ('XenobioticMetabolism1.txt','FreeRadicalResponse.txt','DNARepair1.txt','NKCellCytotoxicity.txt')\n",
    "ext_data,res_sym = [], []\n",
    "for f_name in files:\n",
    "    ext_data.append( pd.read_csv(os.path.join('.','..','data',f_name ),sep='\\t') )\n",
    "    res_sym.append( list(pd.Series(list(set(gene_sym).intersection(set(list(ext_data[-1][ext_data[-1].columns[0]])))))) )"
   ]
  },
  {
   "cell_type": "code",
   "execution_count": 12,
   "metadata": {},
   "outputs": [
    {
     "name": "stdout",
     "output_type": "stream",
     "text": [
      "File Name is XenobioticMetabolism1.txt\n",
      "Intersection Count is 6\n",
      "Genes from Intersection are\n",
      " ['CYP2S1', 'AOC2', 'AADAC', 'SULT1A1', 'AS3MT', 'HNF4A']\n",
      "\n",
      "File Name is FreeRadicalResponse.txt\n",
      "Intersection Count is 0\n",
      "Genes from Intersection are\n",
      " []\n",
      "\n",
      "File Name is DNARepair1.txt\n",
      "Intersection Count is 1\n",
      "Genes from Intersection are\n",
      " ['PNKP']\n",
      "\n",
      "File Name is NKCellCytotoxicity.txt\n",
      "Intersection Count is 7\n",
      "Genes from Intersection are\n",
      " ['PRF1', 'HLA-E', 'HLA-C', 'KLRC2', 'IFNG', 'PTPN6', 'HLA-G']\n",
      "\n"
     ]
    }
   ],
   "source": [
    "for name, count, genes in zip(files,map(len,res_sym),res_sym):\n",
    "    print('File Name is',name )\n",
    "    print('Intersection Count is',count)\n",
    "    print('Genes from Intersection are\\n',genes,end='\\n\\n')"
   ]
  },
  {
   "cell_type": "code",
   "execution_count": 13,
   "metadata": {
    "scrolled": false
   },
   "outputs": [
    {
     "name": "stdout",
     "output_type": "stream",
     "text": [
      "\n",
      "\n",
      "File Name :  XenobioticMetabolism1.txt\n",
      "\n",
      " CYP2S1\n",
      "Gender M\tMore Response in Smokers\n",
      "Gender F\tMore Response in Non-Smokers\n",
      "\n",
      " AOC2\n",
      "Gender M\tMore Response in Non-Smokers\n",
      "Gender F\tMore Response in Non-Smokers\n",
      "\n",
      " AADAC\n",
      "Gender M\tMore Response in Non-Smokers\n",
      "Gender F\tMore Response in Non-Smokers\n",
      "\n",
      " SULT1A1\n",
      "Gender M\tMore Response in Smokers\n",
      "Gender F\tMore Response in Non-Smokers\n",
      "\n",
      " AS3MT\n",
      "Gender M\tMore Response in Non-Smokers\n",
      "Gender F\tMore Response in Smokers\n",
      "\n",
      " HNF4A\n",
      "Gender M\tMore Response in Non-Smokers\n",
      "Gender F\tMore Response in Non-Smokers\n",
      "\n",
      "\n",
      "File Name :  FreeRadicalResponse.txt\n",
      "\n",
      "\n",
      "File Name :  DNARepair1.txt\n",
      "\n",
      " PNKP\n",
      "Gender M\tMore Response in Smokers\n",
      "Gender F\tMore Response in Smokers\n",
      "\n",
      "\n",
      "File Name :  NKCellCytotoxicity.txt\n",
      "\n",
      " PRF1\n",
      "Gender M\tMore Response in Non-Smokers\n",
      "Gender F\tMore Response in Smokers\n",
      "\n",
      " HLA-E\n",
      "Gender M\tMore Response in Smokers\n",
      "Gender F\tMore Response in Smokers\n",
      "\n",
      " HLA-C\n",
      "Gender M\tMore Response in Smokers\n",
      "Gender F\tMore Response in Non-Smokers\n",
      "\n",
      " KLRC2\n",
      "Gender M\tMore Response in Non-Smokers\n",
      "Gender F\tMore Response in Smokers\n",
      "\n",
      " IFNG\n",
      "Gender M\tMore Response in Non-Smokers\n",
      "Gender F\tMore Response in Smokers\n",
      "\n",
      " PTPN6\n",
      "Gender M\tMore Response in Smokers\n",
      "Gender F\tMore Response in Non-Smokers\n",
      "\n",
      " HLA-G\n",
      "Gender M\tMore Response in Non-Smokers\n",
      "Gender F\tMore Response in Smokers\n"
     ]
    }
   ],
   "source": [
    "# Task-7 : Finding the difference in response of gene in each gender, differentiating smoker or not\n",
    "def comp(false_ls, true_ls,gender):\n",
    "    points = 100\n",
    "    # Fit a normal distribution to the data:\n",
    "    f_mu, f_std = np.mean(false_ls), np.std(false_ls) \n",
    "    t_mu, t_std = np.mean(true_ls ), np.std(true_ls )\n",
    "\n",
    "    # Plot the PDF.\n",
    "    xmin, xmax = min(false_ls+true_ls), max(false_ls+true_ls)\n",
    "    x = np.linspace(xmin, xmax, points)\n",
    "\n",
    "    f_p = norm.pdf(x, f_mu, f_std)\n",
    "    t_p = norm.pdf(x, t_mu, t_std)\n",
    "\n",
    "    plt.plot(x, f_p, 'g', linewidth=2)\n",
    "    plt.plot(x, t_p, 'r', linewidth=2)\n",
    "\n",
    "    plt.title('{} - {}'.format(box_title,gender))\n",
    "    plt.savefig(os.path.join('plots','{} - {}.PNG'.format(box_title,gender)),dpi=400,bbox_inches='tight',format='PNG')\n",
    "#     plt.show()\n",
    "    plt.close()\n",
    "\n",
    "#     f_1, f_3 = np.quantile(f_p,0.16), np.quantile(f_p,0.84)\n",
    "#     t_1, t_3 = np.quantile(t_p,0.16), np.quantile(t_p,0.84)\n",
    "    \n",
    "#     f_p_s = [x for x in f_p if ( f_1<=x and x<=f_3 )]\n",
    "#     t_p_s = [x for x in t_p if ( t_1<=x and x<=t_3 )]\n",
    "#     if np.mean(f_p_s) < np.mean(t_p_s):\n",
    "#         print('Lesser Response in Smokers')\n",
    "#     else:\n",
    "#         print('More   Response in Smokers')\n",
    "\n",
    "\n",
    "\n",
    "if 'plots' not in os.listdir():\n",
    "    os.mkdir('plots')\n",
    "\n",
    "tmp_ls = list(data['GeneSymbol'])\n",
    "for ix1,sym_ls in enumerate(res_sym):\n",
    "    print('\\n\\nFile Name : ',files[ix1])\n",
    "    for sym in sym_ls:\n",
    "        print('\\n',sym)\n",
    "        ix2 = tmp_ls.index(sym)\n",
    "        dct = {}\n",
    "        typ_ls = ('MN','MS','FN','FS')\n",
    "        for ix3,typ in enumerate(typ_ls):\n",
    "            dct[typ] = list(data.iloc[ix2,1+ix3*PPL:1+(ix3+1)*PPL])\n",
    "        fig, ax = plt.subplots()\n",
    "        plot_data = [dct[k] for k in typ_ls] \n",
    "                \n",
    "        # Box plot of Data\n",
    "        ax.boxplot(plot_data)#, showfliers=False)\n",
    "        plt.xticks(np.arange(1,len(typ_ls)+1),typ_ls)\n",
    "        \n",
    "        box_title = '_'.join((files[ix1],sym))\n",
    "        plt.title(box_title)\n",
    "        plt.savefig(os.path.join('plots','{}.PNG'.format(box_title)),dpi=400,bbox_inches='tight',format='PNG')\n",
    "#         plt.show()\n",
    "        plt.close()\n",
    "\n",
    "        for gender in ('M','F'):\n",
    "            dct2 = {}\n",
    "            for k in dct.keys():\n",
    "                if gender in k:\n",
    "                    dct2[k] = dct[k]\n",
    "            false_ls = dct2[gender+'N']\n",
    "            true_ls  = dct2[gender+'S']\n",
    "            false_md = np.median(false_ls)\n",
    "            true_md  = np.median(true_ls )\n",
    "                \n",
    "            print('Gender',gender,end='\\t')\n",
    "            if false_md < true_md:\n",
    "                print('More Response in Non-Smokers')\n",
    "            else:\n",
    "                print('More Response in Smokers')\n",
    "                \n",
    "            # Gaussian KDE approximation of Data\n",
    "#             sns.distplot(false_ls,color='g',bins=PPL)\n",
    "#             sns.distplot(true_ls, color='r',bins=PPL)\n",
    "#             plt.show()\n",
    "\n",
    "            # Gaussian Approximation of data & Line visualization\n",
    "            comp(false_ls,true_ls,gender)\n",
    "plt.close()"
   ]
  },
  {
   "cell_type": "code",
   "execution_count": null,
   "metadata": {},
   "outputs": [],
   "source": []
  }
 ],
 "metadata": {
  "kernelspec": {
   "display_name": "Python [conda env:DSL] *",
   "language": "python",
   "name": "conda-env-DSL-py"
  },
  "language_info": {
   "codemirror_mode": {
    "name": "ipython",
    "version": 3
   },
   "file_extension": ".py",
   "mimetype": "text/x-python",
   "name": "python",
   "nbconvert_exporter": "python",
   "pygments_lexer": "ipython3",
   "version": "3.7.4"
  }
 },
 "nbformat": 4,
 "nbformat_minor": 2
}
